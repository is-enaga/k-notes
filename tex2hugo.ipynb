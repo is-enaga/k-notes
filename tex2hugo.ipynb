{
 "cells": [
  {
   "cell_type": "code",
   "execution_count": 5,
   "metadata": {},
   "outputs": [
    {
     "name": "stdout",
     "output_type": "stream",
     "text": [
      "Chapter 1: 導入 converted to /root/Code/k-note/k-notes/docs/pygmt/sec001.md\n",
      "Chapter 2: 必須手順 converted to /root/Code/k-note/k-notes/docs/pygmt/sec002.md\n",
      "Chapter 3: 一般 converted to /root/Code/k-note/k-notes/docs/pygmt/sec003.md\n",
      "Chapter 4: 点・図形のプロット converted to /root/Code/k-note/k-notes/docs/pygmt/sec004.md\n",
      "Chapter 5: 線のプロット converted to /root/Code/k-note/k-notes/docs/pygmt/sec005.md\n",
      "Chapter 6: 震源メカニズム解 converted to /root/Code/k-note/k-notes/docs/pygmt/sec006.md\n",
      "Chapter 7: 二次元プロット converted to /root/Code/k-note/k-notes/docs/pygmt/sec007.md\n",
      "Chapter 8: グラフ内のテキスト converted to /root/Code/k-note/k-notes/docs/pygmt/sec008.md\n",
      "Chapter 9: 地図のプロット converted to /root/Code/k-note/k-notes/docs/pygmt/sec009.md\n",
      "Chapter 10: 軸・枠回り converted to /root/Code/k-note/k-notes/docs/pygmt/sec010.md\n",
      "Chapter 11: 周辺要素 converted to /root/Code/k-note/k-notes/docs/pygmt/sec011.md\n",
      "Chapter 12: データの処理 converted to /root/Code/k-note/k-notes/docs/pygmt/sec012.md\n",
      "Chapter 13: グラフ紙面上の処理 converted to /root/Code/k-note/k-notes/docs/pygmt/sec013.md\n",
      "Chapter 14: 地理院・国交省データの利用 converted to /root/Code/k-note/k-notes/docs/pygmt/sec014.md\n",
      "Chapter 15: その他 converted to /root/Code/k-note/k-notes/docs/pygmt/sec015.md\n",
      "\n",
      "\n",
      "\n",
      "\n",
      "\n",
      "\n",
      "\n",
      "\n",
      "\n",
      "\n",
      "\n",
      "\n",
      "\n",
      "\n",
      "\n",
      "\n",
      "\n",
      "\n"
     ]
    }
   ],
   "source": [
    "#pygmt\n",
    "from tex2hugo import *\n",
    "\n",
    "tex2hugo(\n",
    "    tex_file = \"/mnt/c/Users/ERI/Aki/MyNotes/PyGMT/pygmt_note.tex\",\n",
    "    fig_dir = \"/mnt/c/Users/ERI/Aki/MyNotes/PyGMT/fig\",\n",
    "    output_dir = \"/root/Code/k-note/k-notes/docs/pygmt\",\n",
    "    outfigdir = \"/root/Code/k-note/k-notes/docs/pygmt/fig\",   \n",
    "    )"
   ]
  },
  {
   "cell_type": "code",
   "execution_count": 6,
   "metadata": {},
   "outputs": [
    {
     "name": "stdout",
     "output_type": "stream",
     "text": [
      "Chapter 1: 画像生成とフォント設定 converted to /root/Code/k-note/k-notes/docs/plt/sec001.md\n",
      "Chapter 2: 点，線のプロット converted to /root/Code/k-note/k-notes/docs/plt/sec002.md\n",
      "Chapter 3: 2次元メッシュのプロット converted to /root/Code/k-note/k-notes/docs/plt/sec003.md\n",
      "Chapter 4: 付加要素 converted to /root/Code/k-note/k-notes/docs/plt/sec004.md\n",
      "Chapter 5: 軸・ラベル・枠 converted to /root/Code/k-note/k-notes/docs/plt/sec005.md\n",
      "Chapter 6: 作品例 converted to /root/Code/k-note/k-notes/docs/plt/sec006.md\n"
     ]
    },
    {
     "name": "stdout",
     "output_type": "stream",
     "text": [
      "\n",
      "\n"
     ]
    }
   ],
   "source": [
    "#plt\n",
    "from tex2hugo import *\n",
    "\n",
    "tex2hugo(\n",
    "    tex_file = \"/mnt/c/Users/ERI/Aki/MyNotes/matplotlib/myplt/matplotlib.tex\",\n",
    "    fig_dir = \"/mnt/c/Users/ERI/Aki/MyNotes/matplotlib/myplt/fig\",\n",
    "    output_dir = \"/root/Code/k-note/k-notes/docs/plt\",\n",
    "    outfigdir = \"/root/Code/k-note/k-notes/docs/plt/fig\",\n",
    "    )"
   ]
  },
  {
   "cell_type": "code",
   "execution_count": 7,
   "metadata": {},
   "outputs": [
    {
     "name": "stdout",
     "output_type": "stream",
     "text": [
      "Chapter 1: Ubuntu一般 converted to /root/Code/k-note/k-notes/docs/ubuntu/sec001.md\n",
      "Chapter 2: ファイル管理 converted to /root/Code/k-note/k-notes/docs/ubuntu/sec002.md\n",
      "Chapter 3: SSH接続 converted to /root/Code/k-note/k-notes/docs/ubuntu/sec003.md\n",
      "Chapter 4: Git converted to /root/Code/k-note/k-notes/docs/ubuntu/sec004.md\n",
      "Chapter 5: パッケージ converted to /root/Code/k-note/k-notes/docs/ubuntu/sec005.md\n",
      "Chapter 6: プログラミング converted to /root/Code/k-note/k-notes/docs/ubuntu/sec006.md\n",
      "Chapter 7: メール送信 converted to /root/Code/k-note/k-notes/docs/ubuntu/sec007.md\n",
      "Chapter 8: WSL2 converted to /root/Code/k-note/k-notes/docs/ubuntu/sec008.md\n"
     ]
    }
   ],
   "source": [
    "#ubuntu\n",
    "from tex2hugo import *\n",
    "\n",
    "tex2hugo(\n",
    "    tex_file = \"/mnt/c/Users/ERI/Aki/MyNotes/Linux/linux.tex\",\n",
    "    fig_dir = \"/mnt/c/Users/ERI/Aki/MyNotes/Linux/fig\",\n",
    "    output_dir = \"/root/Code/k-note/k-notes/docs/ubuntu\",\n",
    "    outfigdir = \"/root/Code/k-note/k-notes/docs/ubuntu/fig\",   \n",
    "    )"
   ]
  },
  {
   "cell_type": "code",
   "execution_count": 8,
   "metadata": {},
   "outputs": [
    {
     "name": "stdout",
     "output_type": "stream",
     "text": [
      "Chapter 1: WINシステムのインストール converted to /root/Code/k-note/k-notes/docs/win/sec001.md\n",
      "Chapter 2: WINおよびhypomh関連ファイルのフォーマット converted to /root/Code/k-note/k-notes/docs/win/sec002.md\n"
     ]
    }
   ],
   "source": [
    "#win\n",
    "from tex2hugo import *\n",
    "\n",
    "tex2hugo(\n",
    "    tex_file = \"/mnt/c/Users/ERI/Aki/MyNotes/win/note.tex\",\n",
    "    fig_dir = \"/mnt/c/Users/ERI/Aki/MyNotes/win/fig\",\n",
    "    output_dir = \"/root/Code/k-note/k-notes/docs/win\",\n",
    "    outfigdir = \"/root/Code/k-note/k-notes/docs/win/fig\",   \n",
    "    )"
   ]
  },
  {
   "cell_type": "code",
   "execution_count": null,
   "metadata": {},
   "outputs": [],
   "source": []
  }
 ],
 "metadata": {
  "kernelspec": {
   "display_name": "seis",
   "language": "python",
   "name": "python3"
  },
  "language_info": {
   "codemirror_mode": {
    "name": "ipython",
    "version": 3
   },
   "file_extension": ".py",
   "mimetype": "text/x-python",
   "name": "python",
   "nbconvert_exporter": "python",
   "pygments_lexer": "ipython3",
   "version": "3.12.3"
  }
 },
 "nbformat": 4,
 "nbformat_minor": 2
}
